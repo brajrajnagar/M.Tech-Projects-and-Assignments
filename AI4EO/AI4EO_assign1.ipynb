{
  "cells": [
    {
      "cell_type": "markdown",
      "source": [
        "#Downloading UC Merced is a 21 class dataset"
      ],
      "metadata": {
        "id": "yC0s_5z56-IN"
      }
    },
    {
      "cell_type": "code",
      "execution_count": null,
      "metadata": {
        "colab": {
          "base_uri": "https://localhost:8080/"
        },
        "id": "u_PVA5_MJU0J",
        "outputId": "307b103c-26cd-4118-80ec-6407d50dba0e"
      },
      "outputs": [
        {
          "output_type": "stream",
          "name": "stdout",
          "text": [
            "Looking in indexes: https://pypi.org/simple, https://us-python.pkg.dev/colab-wheels/public/simple/\n",
            "Requirement already satisfied: wget in /usr/local/lib/python3.8/dist-packages (3.2)\n"
          ]
        }
      ],
      "source": [
        "!pip install wget"
      ]
    },
    {
      "cell_type": "code",
      "execution_count": null,
      "metadata": {
        "id": "mvyEmjudIGBi",
        "colab": {
          "base_uri": "https://localhost:8080/",
          "height": 35
        },
        "outputId": "2c926a35-9926-440c-a396-956a6c99b300"
      },
      "outputs": [
        {
          "output_type": "execute_result",
          "data": {
            "text/plain": [
              "'UCMerced_LandUse.zip'"
            ],
            "application/vnd.google.colaboratory.intrinsic+json": {
              "type": "string"
            }
          },
          "metadata": {},
          "execution_count": 2
        }
      ],
      "source": [
        "import wget\n",
        "\n",
        "url = 'https://mymldatasets.s3.eu-de.cloud-object-storage.appdomain.cloud/UCMerced_LandUse.zip'\n",
        "wget.download(url)"
      ]
    },
    {
      "cell_type": "markdown",
      "source": [
        "### Extracting the data from Zip file"
      ],
      "metadata": {
        "id": "1UC-tJyq7Jyb"
      }
    },
    {
      "cell_type": "code",
      "execution_count": null,
      "metadata": {
        "id": "7XBia6RjJiRT"
      },
      "outputs": [],
      "source": [
        "import zipfile\n",
        "with zipfile.ZipFile('UCMerced_LandUse.zip', 'r') as zip_ref:\n",
        "    zip_ref.extractall('.')"
      ]
    },
    {
      "cell_type": "code",
      "execution_count": null,
      "metadata": {
        "id": "KDG0NlR3Jw68",
        "colab": {
          "base_uri": "https://localhost:8080/"
        },
        "outputId": "87f772a0-93ec-4c4a-c2f7-72f13f623c67"
      },
      "outputs": [
        {
          "output_type": "execute_result",
          "data": {
            "text/plain": [
              "(['tenniscourt',\n",
              "  'airplane',\n",
              "  'denseresidential',\n",
              "  'golfcourse',\n",
              "  'beach',\n",
              "  'buildings',\n",
              "  'freeway',\n",
              "  'mediumresidential',\n",
              "  'harbor',\n",
              "  'sparseresidential',\n",
              "  'storagetanks',\n",
              "  'parkinglot',\n",
              "  'chaparral',\n",
              "  'intersection',\n",
              "  'forest',\n",
              "  'mobilehomepark',\n",
              "  'runway',\n",
              "  'agricultural',\n",
              "  'overpass',\n",
              "  'river',\n",
              "  'baseballdiamond'],\n",
              " 21)"
            ]
          },
          "metadata": {},
          "execution_count": 1
        }
      ],
      "source": [
        "import os\n",
        "from pathlib import Path\n",
        "\n",
        "PATH = Path('dataset/Images')\n",
        "\n",
        "labels = os.listdir(PATH)\n",
        "labels, len(labels)"
      ]
    },
    {
      "cell_type": "markdown",
      "source": [
        "### Images in each class"
      ],
      "metadata": {
        "id": "5SC9Z2Uw7Th0"
      }
    },
    {
      "cell_type": "code",
      "execution_count": null,
      "metadata": {
        "id": "3iyvmwXmKBMp",
        "colab": {
          "base_uri": "https://localhost:8080/"
        },
        "outputId": "e69bc50f-47da-4f2e-de62-1d005173ea55"
      },
      "outputs": [
        {
          "output_type": "stream",
          "name": "stdout",
          "text": [
            "tenniscourt : 100\n",
            "airplane : 100\n",
            "denseresidential : 100\n",
            "golfcourse : 100\n",
            "beach : 100\n",
            "buildings : 100\n",
            "freeway : 100\n",
            "mediumresidential : 100\n",
            "harbor : 100\n",
            "sparseresidential : 100\n",
            "storagetanks : 100\n",
            "parkinglot : 100\n",
            "chaparral : 100\n",
            "intersection : 100\n",
            "forest : 100\n",
            "mobilehomepark : 100\n",
            "runway : 100\n",
            "agricultural : 100\n",
            "overpass : 100\n",
            "river : 100\n",
            "baseballdiamond : 100\n"
          ]
        }
      ],
      "source": [
        "for label in labels:\n",
        "    items = os.listdir(PATH/label)\n",
        "    print(label, ':', len(items))"
      ]
    },
    {
      "cell_type": "code",
      "execution_count": null,
      "metadata": {
        "id": "voPWGyKHKMLT"
      },
      "outputs": [],
      "source": [
        "import torch\n",
        "from torchvision import datasets, transforms\n",
        "\n",
        "transform = transforms.Compose([transforms.Resize(228),\n",
        "                                transforms.CenterCrop(227),\n",
        "                                transforms.ToTensor()])"
      ]
    },
    {
      "cell_type": "code",
      "execution_count": null,
      "metadata": {
        "id": "RmxQg2OiKuiT"
      },
      "outputs": [],
      "source": [
        "dataset = datasets.ImageFolder(root=PATH, transform=transform)\n",
        "classes = dataset.classes"
      ]
    },
    {
      "cell_type": "markdown",
      "source": [
        "# Saprating Data into 14 and 7 classes sets"
      ],
      "metadata": {
        "id": "GLL281fh-dwW"
      }
    },
    {
      "cell_type": "code",
      "execution_count": null,
      "metadata": {
        "id": "6qSl2q2ZLC6p"
      },
      "outputs": [],
      "source": [
        "dataset_1 = [] # First 14 classes\n",
        "dataset_2 = [] # Last 7 classes\n",
        "\n",
        "for d in dataset:\n",
        "    if d[1]<14:\n",
        "        dataset_1.append(d)\n",
        "    else:\n",
        "        dataset_2.append(d)"
      ]
    },
    {
      "cell_type": "markdown",
      "source": [
        "# Dividing 14 classes set into train (75%) and test (25%)"
      ],
      "metadata": {
        "id": "jnDFft3Q-lBO"
      }
    },
    {
      "cell_type": "code",
      "execution_count": null,
      "metadata": {
        "colab": {
          "base_uri": "https://localhost:8080/"
        },
        "id": "DlOgj17JLOkc",
        "outputId": "60b688e1-39bd-411b-b3e4-9bf2672b12fc"
      },
      "outputs": [
        {
          "output_type": "execute_result",
          "data": {
            "text/plain": [
              "(1050, 350)"
            ]
          },
          "metadata": {},
          "execution_count": 6
        }
      ],
      "source": [
        "from sklearn.model_selection import train_test_split\n",
        "train_dataset, test_dataset = train_test_split(dataset_1, test_size=0.25, random_state=42)\n",
        "len(train_dataset), len(test_dataset)"
      ]
    },
    {
      "cell_type": "code",
      "execution_count": null,
      "metadata": {
        "colab": {
          "base_uri": "https://localhost:8080/",
          "height": 264
        },
        "id": "ZXCtUhbMLTEJ",
        "outputId": "e21b8012-4c5d-47ea-fb37-dcfcdc610cb7"
      },
      "outputs": [
        {
          "output_type": "display_data",
          "data": {
            "text/plain": [
              "<Figure size 432x288 with 1 Axes>"
            ],
            "image/png": "[encoded data removed]"
          },
          "metadata": {
            "needs_background": "light"
          }
        }
      ],
      "source": [
        "import matplotlib.pyplot as plt\n",
        "train_dataloader = torch.utils.data.DataLoader(train_dataset, batch_size=25, shuffle=True)\n",
        "test_dataloader = torch.utils.data.DataLoader(test_dataset, batch_size=25, shuffle=True)\n",
        "\n",
        "images, labels = next(iter(train_dataloader))\n",
        "plt.imshow(images[0].permute(1,2,0))\n",
        "plt.axis(False)\n",
        "plt.title(classes[labels[0]]);"
      ]
    },
    {
      "cell_type": "code",
      "execution_count": null,
      "metadata": {
        "colab": {
          "base_uri": "https://localhost:8080/",
          "height": 35
        },
        "id": "Bqug-NALLZXj",
        "outputId": "1ac08a02-33a2-47fc-b95b-ffc3228a4dbe"
      },
      "outputs": [
        {
          "output_type": "execute_result",
          "data": {
            "text/plain": [
              "'cuda'"
            ],
            "application/vnd.google.colaboratory.intrinsic+json": {
              "type": "string"
            }
          },
          "metadata": {},
          "execution_count": 8
        }
      ],
      "source": [
        "DEVICE = 'cuda' if torch.cuda.is_available() else 'cpu'\n",
        "DEVICE"
      ]
    },
    {
      "cell_type": "markdown",
      "source": [
        "# Accuracy Function"
      ],
      "metadata": {
        "id": "zmLFSBa2_Lgl"
      }
    },
    {
      "cell_type": "code",
      "execution_count": null,
      "metadata": {
        "id": "s7F55fAYL5yc"
      },
      "outputs": [],
      "source": [
        "def accuracy_fn(y_true, y_pred):\n",
        "  correct = torch.eq(y_true, y_pred).sum().item()\n",
        "  acc = (correct/len(y_pred))*100\n",
        "  return acc"
      ]
    },
    {
      "cell_type": "markdown",
      "source": [
        "# Train and Test function for Model"
      ],
      "metadata": {
        "id": "7FHqD4M1_Qsj"
      }
    },
    {
      "cell_type": "code",
      "execution_count": null,
      "metadata": {
        "id": "lIBKpvm8L9H5"
      },
      "outputs": [],
      "source": [
        "def train_step(model:torch.nn.Module,\n",
        "               data_loader:torch.utils.data.DataLoader,\n",
        "               loss_f:torch.nn.Module,\n",
        "               optimizer_f: torch.optim.Optimizer,\n",
        "               accuracy):\n",
        "  model.train()\n",
        "  train_loss, train_acc = 0, 0\n",
        "  for batch, (X,y) in enumerate(data_loader):\n",
        "    # Send data to GPU\n",
        "    X, y = X.to(DEVICE), y.to(DEVICE)\n",
        "    # 1. Forward pass\n",
        "    y_preds = model(X)\n",
        "    # 2. Calculate loss\n",
        "    loss = loss_f(y_preds, y)\n",
        "    train_loss += loss\n",
        "    # Accuracy calculation\n",
        "    train_acc += accuracy(y, y_preds.argmax(dim=1))\n",
        "    # 3. Optimizer zero grad\n",
        "    optimizer_f.zero_grad()\n",
        "    # 4. Loss backward\n",
        "    loss.backward()\n",
        "    # 5. Optimizer step\n",
        "    optimizer_f.step()\n",
        "  # Calculate loss and accuracy per epoch and print out what's happening\n",
        "  train_loss /= len(data_loader)\n",
        "  train_acc /= len(data_loader)\n",
        "  print(f\"Train loss: {train_loss:.5f} | Train accuracy: {train_acc:.2f}%\")\n",
        "\n",
        "\n",
        "def test_step(model:torch.nn.Module,\n",
        "               data_loader:torch.utils.data.DataLoader,\n",
        "               loss_f:torch.nn.Module,\n",
        "               accuracy):\n",
        "  loss, acc = 0, 0\n",
        "\n",
        "  with torch.inference_mode():\n",
        "    model.eval()\n",
        "    for X,y in data_loader:\n",
        "      X, y = X.to(DEVICE), y.to(DEVICE)\n",
        "      # 1. Forward pass\n",
        "      y_preds = model(X)\n",
        "      # 2. Calculate loss (accumatively)\n",
        "      loss += loss_f(y_preds, y) ## accumulatively add up the loss per epoch\n",
        "      # 3. Calculate accuracy (preds need to be same as y_true)\n",
        "      acc += accuracy(y, y_preds.argmax(dim=1))\n",
        "    # Calculations on test metrics need to happen inside torch.inference_mode()\n",
        "    # Divide total test loss by length of test dataloader (per batch)\n",
        "    loss /= len(data_loader)\n",
        "    # Divide total accuracy by length of test dataloader (per batch)\n",
        "    acc /= len(data_loader)\n",
        "    ## Print whats happening\n",
        "    print(f\"Test loss: {loss:.5f} | Test accuracy: {acc:.2f}%\\n\")"
      ]
    },
    {
      "cell_type": "markdown",
      "source": [
        "# Using ResNet34 Model"
      ],
      "metadata": {
        "id": "li8_BL8j_xb9"
      }
    },
    {
      "cell_type": "code",
      "execution_count": null,
      "metadata": {
        "colab": {
          "base_uri": "https://localhost:8080/"
        },
        "id": "XMLwxxO-L_lx",
        "outputId": "08102dc6-3c8a-4e87-d476-8ddda43d49d3"
      },
      "outputs": [
        {
          "output_type": "stream",
          "name": "stderr",
          "text": [
            "Using cache found in /root/.cache/torch/hub/pytorch_vision_v0.10.0\n"
          ]
        }
      ],
      "source": [
        "resnet = torch.hub.load('pytorch/vision:v0.10.0', 'resnet34').to(DEVICE)"
      ]
    },
    {
      "cell_type": "code",
      "source": [
        "class LandUse(torch.nn.Module):\n",
        "  def __init__(self, pre_model:torch.nn.Module):\n",
        "    super().__init__()\n",
        "    self.model_A = pre_model\n",
        "    self.out = torch.nn.Sequential(torch.nn.ReLU(),\n",
        "        torch.nn.Linear(in_features=1000, out_features=14)\n",
        "        )\n",
        "  def forward(self, x:torch.Tensor):\n",
        "    return self.out(self.model_A(x))"
      ],
      "metadata": {
        "id": "ZG0lpyQ3ERRq"
      },
      "execution_count": null,
      "outputs": []
    },
    {
      "cell_type": "code",
      "source": [
        "model = LandUse(resnet).to(DEVICE)"
      ],
      "metadata": {
        "id": "GVG8OrQUIuxA"
      },
      "execution_count": null,
      "outputs": []
    },
    {
      "cell_type": "markdown",
      "source": [
        "# setting up Loss function and Optimizer"
      ],
      "metadata": {
        "id": "m8QcB35u_5BF"
      }
    },
    {
      "cell_type": "code",
      "execution_count": null,
      "metadata": {
        "id": "eU68lNDHMGXy"
      },
      "outputs": [],
      "source": [
        "# Setup loss and optimizer\n",
        "loss_fn = torch.nn.CrossEntropyLoss()\n",
        "optimizer = torch.optim.SGD(params=model.parameters(), \n",
        "                             lr=0.1)"
      ]
    },
    {
      "cell_type": "markdown",
      "source": [
        "# Training and Testing the model"
      ],
      "metadata": {
        "id": "cxhmk1hlAEAv"
      }
    },
    {
      "cell_type": "code",
      "execution_count": null,
      "metadata": {
        "id": "Ez_RSzDUML1C",
        "colab": {
          "base_uri": "https://localhost:8080/"
        },
        "outputId": "a53eb6c6-41ad-46fc-bc98-46a665e8776a"
      },
      "outputs": [
        {
          "output_type": "stream",
          "name": "stdout",
          "text": [
            "Epoch: 0\n",
            "---------\n",
            "Train loss: 2.29235 | Train accuracy: 21.90%\n",
            "Test loss: 2.18485 | Test accuracy: 26.00%\n",
            "\n",
            "Epoch: 1\n",
            "---------\n",
            "Train loss: 1.87699 | Train accuracy: 35.71%\n",
            "Test loss: 2.30825 | Test accuracy: 25.71%\n",
            "\n",
            "Epoch: 2\n",
            "---------\n",
            "Train loss: 1.62835 | Train accuracy: 43.90%\n",
            "Test loss: 2.57431 | Test accuracy: 31.71%\n",
            "\n",
            "Epoch: 3\n",
            "---------\n",
            "Train loss: 1.43832 | Train accuracy: 50.00%\n",
            "Test loss: 2.17672 | Test accuracy: 34.57%\n",
            "\n",
            "Epoch: 4\n",
            "---------\n",
            "Train loss: 1.24805 | Train accuracy: 56.48%\n",
            "Test loss: 3.92040 | Test accuracy: 23.14%\n",
            "\n",
            "Epoch: 5\n",
            "---------\n",
            "Train loss: 1.14110 | Train accuracy: 59.33%\n",
            "Test loss: 2.92585 | Test accuracy: 43.71%\n",
            "\n",
            "Epoch: 6\n",
            "---------\n",
            "Train loss: 1.05128 | Train accuracy: 63.24%\n",
            "Test loss: 1.84975 | Test accuracy: 46.57%\n",
            "\n",
            "Epoch: 7\n",
            "---------\n",
            "Train loss: 0.89682 | Train accuracy: 69.05%\n",
            "Test loss: 1.09723 | Test accuracy: 58.57%\n",
            "\n",
            "Epoch: 8\n",
            "---------\n",
            "Train loss: 0.88668 | Train accuracy: 68.86%\n",
            "Test loss: 1.22922 | Test accuracy: 59.43%\n",
            "\n",
            "Epoch: 9\n",
            "---------\n",
            "Train loss: 0.75124 | Train accuracy: 73.90%\n",
            "Test loss: 1.83381 | Test accuracy: 56.29%\n",
            "\n",
            "Epoch: 10\n",
            "---------\n",
            "Train loss: 0.72689 | Train accuracy: 75.90%\n",
            "Test loss: 1.38480 | Test accuracy: 56.86%\n",
            "\n",
            "Epoch: 11\n",
            "---------\n",
            "Train loss: 0.62081 | Train accuracy: 79.05%\n",
            "Test loss: 1.97515 | Test accuracy: 49.71%\n",
            "\n",
            "Epoch: 12\n",
            "---------\n",
            "Train loss: 0.43662 | Train accuracy: 84.76%\n",
            "Test loss: 4.26717 | Test accuracy: 45.14%\n",
            "\n",
            "Epoch: 13\n",
            "---------\n",
            "Train loss: 0.61147 | Train accuracy: 79.52%\n",
            "Test loss: 3.97737 | Test accuracy: 42.29%\n",
            "\n",
            "Epoch: 14\n",
            "---------\n",
            "Train loss: 0.55162 | Train accuracy: 81.52%\n",
            "Test loss: 0.69471 | Test accuracy: 77.71%\n",
            "\n",
            "Epoch: 15\n",
            "---------\n",
            "Train loss: 0.36315 | Train accuracy: 87.33%\n",
            "Test loss: 14.86248 | Test accuracy: 21.14%\n",
            "\n",
            "Epoch: 16\n",
            "---------\n",
            "Train loss: 0.46750 | Train accuracy: 86.00%\n",
            "Test loss: 4.91594 | Test accuracy: 45.14%\n",
            "\n",
            "Epoch: 17\n",
            "---------\n",
            "Train loss: 0.32212 | Train accuracy: 90.38%\n",
            "Test loss: 5.68402 | Test accuracy: 35.14%\n",
            "\n",
            "Epoch: 18\n",
            "---------\n",
            "Train loss: 0.40628 | Train accuracy: 87.24%\n",
            "Test loss: 0.64889 | Test accuracy: 80.29%\n",
            "\n",
            "Epoch: 19\n",
            "---------\n",
            "Train loss: 0.21383 | Train accuracy: 93.90%\n",
            "Test loss: 1.04752 | Test accuracy: 71.14%\n",
            "\n",
            "Epoch: 20\n",
            "---------\n",
            "Train loss: 0.28843 | Train accuracy: 91.81%\n",
            "Test loss: 1.42025 | Test accuracy: 64.00%\n",
            "\n",
            "Epoch: 21\n",
            "---------\n",
            "Train loss: 0.20878 | Train accuracy: 94.19%\n",
            "Test loss: 0.87314 | Test accuracy: 79.71%\n",
            "\n",
            "Epoch: 22\n",
            "---------\n",
            "Train loss: 0.07941 | Train accuracy: 97.24%\n",
            "Test loss: 1.62124 | Test accuracy: 70.86%\n",
            "\n",
            "Epoch: 23\n",
            "---------\n",
            "Train loss: 0.10181 | Train accuracy: 97.05%\n",
            "Test loss: 1.60544 | Test accuracy: 65.71%\n",
            "\n",
            "Epoch: 24\n",
            "---------\n",
            "Train loss: 0.13572 | Train accuracy: 95.52%\n",
            "Test loss: 1.25595 | Test accuracy: 73.14%\n",
            "\n",
            "Epoch: 25\n",
            "---------\n",
            "Train loss: 0.20899 | Train accuracy: 93.14%\n",
            "Test loss: 4.25160 | Test accuracy: 60.86%\n",
            "\n",
            "Epoch: 26\n",
            "---------\n",
            "Train loss: 0.19163 | Train accuracy: 95.24%\n",
            "Test loss: 4.76021 | Test accuracy: 41.43%\n",
            "\n",
            "Epoch: 27\n",
            "---------\n",
            "Train loss: 0.12590 | Train accuracy: 96.10%\n",
            "Test loss: 0.68023 | Test accuracy: 79.43%\n",
            "\n",
            "Epoch: 28\n",
            "---------\n",
            "Train loss: 0.04168 | Train accuracy: 98.86%\n",
            "Test loss: 1.01147 | Test accuracy: 78.57%\n",
            "\n",
            "Epoch: 29\n",
            "---------\n",
            "Train loss: 0.06056 | Train accuracy: 98.38%\n",
            "Test loss: 0.79249 | Test accuracy: 81.14%\n",
            "\n",
            "Epoch: 30\n",
            "---------\n",
            "Train loss: 0.04480 | Train accuracy: 98.76%\n",
            "Test loss: 0.61746 | Test accuracy: 83.71%\n",
            "\n",
            "Epoch: 31\n",
            "---------\n",
            "Train loss: 0.02379 | Train accuracy: 99.14%\n",
            "Test loss: 0.81799 | Test accuracy: 82.86%\n",
            "\n",
            "Epoch: 32\n",
            "---------\n",
            "Train loss: 0.02760 | Train accuracy: 99.05%\n",
            "Test loss: 0.40238 | Test accuracy: 89.71%\n",
            "\n",
            "Epoch: 33\n",
            "---------\n",
            "Train loss: 0.00942 | Train accuracy: 99.71%\n",
            "Test loss: 0.43988 | Test accuracy: 90.00%\n",
            "\n",
            "Epoch: 34\n",
            "---------\n",
            "Train loss: 0.01232 | Train accuracy: 99.62%\n",
            "Test loss: 0.60532 | Test accuracy: 84.86%\n",
            "\n",
            "Epoch: 35\n",
            "---------\n",
            "Train loss: 0.05902 | Train accuracy: 98.48%\n",
            "Test loss: 5.52998 | Test accuracy: 46.86%\n",
            "\n",
            "Epoch: 36\n",
            "---------\n",
            "Train loss: 0.09154 | Train accuracy: 96.86%\n",
            "Test loss: 0.57230 | Test accuracy: 83.71%\n",
            "\n",
            "Epoch: 37\n",
            "---------\n",
            "Train loss: 0.05387 | Train accuracy: 98.48%\n",
            "Test loss: 0.67995 | Test accuracy: 81.43%\n",
            "\n",
            "Epoch: 38\n",
            "---------\n",
            "Train loss: 0.16847 | Train accuracy: 95.33%\n",
            "Test loss: 2.73044 | Test accuracy: 58.86%\n",
            "\n",
            "Epoch: 39\n",
            "---------\n",
            "Train loss: 0.16969 | Train accuracy: 96.29%\n",
            "Test loss: 7.60730 | Test accuracy: 28.57%\n",
            "\n",
            "Epoch: 40\n",
            "---------\n",
            "Train loss: 0.17760 | Train accuracy: 94.57%\n",
            "Test loss: 0.56390 | Test accuracy: 83.71%\n",
            "\n",
            "Epoch: 41\n",
            "---------\n",
            "Train loss: 0.12384 | Train accuracy: 96.48%\n",
            "Test loss: 1.19059 | Test accuracy: 71.14%\n",
            "\n",
            "Epoch: 42\n",
            "---------\n",
            "Train loss: 0.09043 | Train accuracy: 98.48%\n",
            "Test loss: 19.55185 | Test accuracy: 17.14%\n",
            "\n",
            "Epoch: 43\n",
            "---------\n",
            "Train loss: 0.08223 | Train accuracy: 97.33%\n",
            "Test loss: 0.62127 | Test accuracy: 81.71%\n",
            "\n",
            "Epoch: 44\n",
            "---------\n",
            "Train loss: 0.04146 | Train accuracy: 99.24%\n",
            "Test loss: 1.05298 | Test accuracy: 74.29%\n",
            "\n",
            "Epoch: 45\n",
            "---------\n",
            "Train loss: 0.01985 | Train accuracy: 99.24%\n",
            "Test loss: 1.25055 | Test accuracy: 75.43%\n",
            "\n",
            "Epoch: 46\n",
            "---------\n",
            "Train loss: 0.03406 | Train accuracy: 99.14%\n",
            "Test loss: 1.04861 | Test accuracy: 80.00%\n",
            "\n",
            "Epoch: 47\n",
            "---------\n",
            "Train loss: 0.04221 | Train accuracy: 98.76%\n",
            "Test loss: 0.66698 | Test accuracy: 83.14%\n",
            "\n",
            "Epoch: 48\n",
            "---------\n",
            "Train loss: 0.03288 | Train accuracy: 99.14%\n",
            "Test loss: 0.76605 | Test accuracy: 82.86%\n",
            "\n",
            "Epoch: 49\n",
            "---------\n",
            "Train loss: 0.07242 | Train accuracy: 98.19%\n",
            "Test loss: 1.03681 | Test accuracy: 78.29%\n",
            "\n",
            "Epoch: 50\n",
            "---------\n",
            "Train loss: 0.01729 | Train accuracy: 99.52%\n",
            "Test loss: 0.47366 | Test accuracy: 86.86%\n",
            "\n",
            "Epoch: 51\n",
            "---------\n",
            "Train loss: 0.04298 | Train accuracy: 98.76%\n",
            "Test loss: 0.56981 | Test accuracy: 86.57%\n",
            "\n",
            "Epoch: 52\n",
            "---------\n",
            "Train loss: 0.03687 | Train accuracy: 99.05%\n",
            "Test loss: 1.02260 | Test accuracy: 74.29%\n",
            "\n",
            "Epoch: 53\n",
            "---------\n",
            "Train loss: 0.01365 | Train accuracy: 99.52%\n",
            "Test loss: 1.11846 | Test accuracy: 79.43%\n",
            "\n",
            "Epoch: 54\n",
            "---------\n",
            "Train loss: 0.03162 | Train accuracy: 98.86%\n",
            "Test loss: 0.49625 | Test accuracy: 86.57%\n",
            "\n",
            "Epoch: 55\n",
            "---------\n",
            "Train loss: 0.02204 | Train accuracy: 99.24%\n",
            "Test loss: 0.74058 | Test accuracy: 81.14%\n",
            "\n",
            "Epoch: 56\n",
            "---------\n",
            "Train loss: 0.01279 | Train accuracy: 99.71%\n",
            "Test loss: 0.37063 | Test accuracy: 89.14%\n",
            "\n",
            "Epoch: 57\n",
            "---------\n",
            "Train loss: 0.00502 | Train accuracy: 99.90%\n",
            "Test loss: 0.88168 | Test accuracy: 78.86%\n",
            "\n",
            "Epoch: 58\n",
            "---------\n",
            "Train loss: 0.10840 | Train accuracy: 97.62%\n",
            "Test loss: 3.49158 | Test accuracy: 58.57%\n",
            "\n",
            "Epoch: 59\n",
            "---------\n",
            "Train loss: 0.06313 | Train accuracy: 98.29%\n",
            "Test loss: 0.38787 | Test accuracy: 89.71%\n",
            "\n",
            "Epoch: 60\n",
            "---------\n",
            "Train loss: 0.05253 | Train accuracy: 98.76%\n",
            "Test loss: 2.58877 | Test accuracy: 67.71%\n",
            "\n",
            "Epoch: 61\n",
            "---------\n",
            "Train loss: 0.03101 | Train accuracy: 99.14%\n",
            "Test loss: 0.63020 | Test accuracy: 87.14%\n",
            "\n",
            "Epoch: 62\n",
            "---------\n",
            "Train loss: 0.01451 | Train accuracy: 99.43%\n",
            "Test loss: 0.74285 | Test accuracy: 78.57%\n",
            "\n",
            "Epoch: 63\n",
            "---------\n",
            "Train loss: 0.02717 | Train accuracy: 99.24%\n",
            "Test loss: 0.50918 | Test accuracy: 86.86%\n",
            "\n",
            "Epoch: 64\n",
            "---------\n",
            "Train loss: 0.04473 | Train accuracy: 98.95%\n",
            "Test loss: 0.39588 | Test accuracy: 88.29%\n",
            "\n",
            "Epoch: 65\n",
            "---------\n",
            "Train loss: 0.00327 | Train accuracy: 100.00%\n",
            "Test loss: 0.35048 | Test accuracy: 89.14%\n",
            "\n",
            "Epoch: 66\n",
            "---------\n",
            "Train loss: 0.00647 | Train accuracy: 99.90%\n",
            "Test loss: 0.43998 | Test accuracy: 87.14%\n",
            "\n",
            "Epoch: 67\n",
            "---------\n",
            "Train loss: 0.00816 | Train accuracy: 99.71%\n",
            "Test loss: 0.37420 | Test accuracy: 89.14%\n",
            "\n",
            "Epoch: 68\n",
            "---------\n",
            "Train loss: 0.00206 | Train accuracy: 99.90%\n",
            "Test loss: 0.31245 | Test accuracy: 90.29%\n",
            "\n",
            "Epoch: 69\n",
            "---------\n",
            "Train loss: 0.00570 | Train accuracy: 99.71%\n",
            "Test loss: 0.57209 | Test accuracy: 85.71%\n",
            "\n",
            "Epoch: 70\n",
            "---------\n",
            "Train loss: 0.00384 | Train accuracy: 99.90%\n",
            "Test loss: 0.37988 | Test accuracy: 89.71%\n",
            "\n",
            "Epoch: 71\n",
            "---------\n",
            "Train loss: 0.00120 | Train accuracy: 100.00%\n",
            "Test loss: 0.47267 | Test accuracy: 87.71%\n",
            "\n",
            "Epoch: 72\n",
            "---------\n",
            "Train loss: 0.01515 | Train accuracy: 99.43%\n",
            "Test loss: 0.49126 | Test accuracy: 87.43%\n",
            "\n",
            "Epoch: 73\n",
            "---------\n",
            "Train loss: 0.04282 | Train accuracy: 98.95%\n",
            "Test loss: 4.49302 | Test accuracy: 64.86%\n",
            "\n",
            "Epoch: 74\n",
            "---------\n",
            "Train loss: 0.05318 | Train accuracy: 98.19%\n",
            "Test loss: 0.83285 | Test accuracy: 83.14%\n",
            "\n",
            "Epoch: 75\n",
            "---------\n",
            "Train loss: 0.03293 | Train accuracy: 99.14%\n",
            "Test loss: 0.59386 | Test accuracy: 85.43%\n",
            "\n",
            "Epoch: 76\n",
            "---------\n",
            "Train loss: 0.00582 | Train accuracy: 100.00%\n",
            "Test loss: 0.47417 | Test accuracy: 86.57%\n",
            "\n",
            "Epoch: 77\n",
            "---------\n",
            "Train loss: 0.02058 | Train accuracy: 99.43%\n",
            "Test loss: 0.48163 | Test accuracy: 88.29%\n",
            "\n",
            "Epoch: 78\n",
            "---------\n",
            "Train loss: 0.01066 | Train accuracy: 99.71%\n",
            "Test loss: 0.62462 | Test accuracy: 87.14%\n",
            "\n",
            "Epoch: 79\n",
            "---------\n",
            "Train loss: 0.00276 | Train accuracy: 100.00%\n",
            "Test loss: 0.32872 | Test accuracy: 90.29%\n",
            "\n",
            "Epoch: 80\n",
            "---------\n",
            "Train loss: 0.00107 | Train accuracy: 100.00%\n",
            "Test loss: 0.33757 | Test accuracy: 90.57%\n",
            "\n",
            "Epoch: 81\n",
            "---------\n",
            "Train loss: 0.00666 | Train accuracy: 99.81%\n",
            "Test loss: 0.32155 | Test accuracy: 90.29%\n",
            "\n",
            "Epoch: 82\n",
            "---------\n",
            "Train loss: 0.00396 | Train accuracy: 99.81%\n",
            "Test loss: 0.35168 | Test accuracy: 90.00%\n",
            "\n",
            "Epoch: 83\n",
            "---------\n",
            "Train loss: 0.00396 | Train accuracy: 99.90%\n",
            "Test loss: 0.43895 | Test accuracy: 89.14%\n",
            "\n",
            "Epoch: 84\n",
            "---------\n",
            "Train loss: 0.01034 | Train accuracy: 99.81%\n",
            "Test loss: 0.35202 | Test accuracy: 89.43%\n",
            "\n",
            "Epoch: 85\n",
            "---------\n",
            "Train loss: 0.00140 | Train accuracy: 100.00%\n",
            "Test loss: 0.32992 | Test accuracy: 89.71%\n",
            "\n",
            "Epoch: 86\n",
            "---------\n",
            "Train loss: 0.00113 | Train accuracy: 100.00%\n",
            "Test loss: 0.36537 | Test accuracy: 90.29%\n",
            "\n",
            "Epoch: 87\n",
            "---------\n",
            "Train loss: 0.00051 | Train accuracy: 100.00%\n",
            "Test loss: 0.35461 | Test accuracy: 89.71%\n",
            "\n",
            "Epoch: 88\n",
            "---------\n",
            "Train loss: 0.00087 | Train accuracy: 100.00%\n",
            "Test loss: 0.34402 | Test accuracy: 89.71%\n",
            "\n",
            "Epoch: 89\n",
            "---------\n",
            "Train loss: 0.00087 | Train accuracy: 100.00%\n",
            "Test loss: 0.31616 | Test accuracy: 89.71%\n",
            "\n",
            "Epoch: 90\n",
            "---------\n",
            "Train loss: 0.00047 | Train accuracy: 100.00%\n",
            "Test loss: 0.32547 | Test accuracy: 90.57%\n",
            "\n",
            "Epoch: 91\n",
            "---------\n",
            "Train loss: 0.00095 | Train accuracy: 100.00%\n",
            "Test loss: 0.32752 | Test accuracy: 90.29%\n",
            "\n",
            "Epoch: 92\n",
            "---------\n",
            "Train loss: 0.00064 | Train accuracy: 100.00%\n",
            "Test loss: 0.32121 | Test accuracy: 89.71%\n",
            "\n",
            "Epoch: 93\n",
            "---------\n",
            "Train loss: 0.00030 | Train accuracy: 100.00%\n",
            "Test loss: 0.33184 | Test accuracy: 89.71%\n",
            "\n",
            "Epoch: 94\n",
            "---------\n",
            "Train loss: 0.00014 | Train accuracy: 100.00%\n",
            "Test loss: 0.32966 | Test accuracy: 90.29%\n",
            "\n",
            "Epoch: 95\n",
            "---------\n",
            "Train loss: 0.00018 | Train accuracy: 100.00%\n",
            "Test loss: 0.31384 | Test accuracy: 90.00%\n",
            "\n",
            "Epoch: 96\n",
            "---------\n",
            "Train loss: 0.00044 | Train accuracy: 100.00%\n",
            "Test loss: 0.35893 | Test accuracy: 91.14%\n",
            "\n",
            "Epoch: 97\n",
            "---------\n",
            "Train loss: 0.00032 | Train accuracy: 100.00%\n",
            "Test loss: 0.30463 | Test accuracy: 90.00%\n",
            "\n",
            "Epoch: 98\n",
            "---------\n",
            "Train loss: 0.00019 | Train accuracy: 100.00%\n",
            "Test loss: 0.31827 | Test accuracy: 91.14%\n",
            "\n",
            "Epoch: 99\n",
            "---------\n",
            "Train loss: 0.00019 | Train accuracy: 100.00%\n",
            "Test loss: 0.30885 | Test accuracy: 91.43%\n",
            "\n",
            "Time Taken: 701.2081069946289 sec.\n"
          ]
        }
      ],
      "source": [
        "import time\n",
        "epochs = 100\n",
        "start_time = time.time()\n",
        "for epoch in range(epochs):\n",
        "  print(f\"Epoch: {epoch}\\n---------\")\n",
        "  train_step(data_loader=train_dataloader, \n",
        "      model=model, \n",
        "      loss_f=loss_fn,\n",
        "      optimizer_f=optimizer,\n",
        "      accuracy=accuracy_fn\n",
        "  )\n",
        "\n",
        "  test_step(data_loader=test_dataloader,\n",
        "      model=model,\n",
        "      loss_f=loss_fn,\n",
        "      accuracy=accuracy_fn\n",
        "  )\n",
        "\n",
        "end_time = time.time()\n",
        "print(f\"Time Taken: {end_time-start_time} sec.\")"
      ]
    },
    {
      "cell_type": "markdown",
      "source": [
        "# Evalution Function for max-Softmax"
      ],
      "metadata": {
        "id": "NezW6EEMAMX5"
      }
    },
    {
      "cell_type": "code",
      "source": [
        "def eval_step(model:torch.nn.Module,\n",
        "               data_loader:torch.utils.data.DataLoader):\n",
        "  max_soft_max = torch.tensor([]).to(DEVICE)\n",
        "\n",
        "  with torch.inference_mode():\n",
        "    model.eval()\n",
        "    for X,y in data_loader:\n",
        "      X, y = X.to(DEVICE), y.to(DEVICE)\n",
        "      # 1. Forward pass\n",
        "      y_logits = model(X)\n",
        "      soft_max = torch.nn.Softmax(dim=1)\n",
        "      max_soft_max = torch.cat((max_soft_max, torch.max(soft_max(y_logits), dim=1).values), dim=-1)\n",
        "  return max_soft_max"
      ],
      "metadata": {
        "id": "_zriC31ppQj0"
      },
      "execution_count": null,
      "outputs": []
    },
    {
      "cell_type": "code",
      "source": [
        "test_max_softmax = eval_step(model, test_dataloader)\n",
        "test_max_softmax, test_max_softmax.shape"
      ],
      "metadata": {
        "id": "BIYcuvOcvAJo",
        "colab": {
          "base_uri": "https://localhost:8080/"
        },
        "outputId": "dd007f19-5256-47c1-cc3f-3241a596cd18"
      },
      "execution_count": null,
      "outputs": [
        {
          "output_type": "execute_result",
          "data": {
            "text/plain": [
              "(tensor([0.5351, 0.9988, 1.0000, 1.0000, 0.7187, 0.9912, 0.9526, 0.7069, 0.9993,\n",
              "         0.9999, 1.0000, 0.9650, 1.0000, 1.0000, 0.6534, 0.9378, 1.0000, 0.9955,\n",
              "         0.9993, 1.0000, 0.6405, 1.0000, 1.0000, 0.9934, 0.9986, 0.9853, 1.0000,\n",
              "         1.0000, 0.9999, 0.9998, 1.0000, 0.9999, 1.0000, 1.0000, 0.5098, 0.9995,\n",
              "         0.9859, 1.0000, 0.9996, 1.0000, 0.9999, 1.0000, 1.0000, 0.9902, 0.9951,\n",
              "         0.5934, 0.7102, 1.0000, 0.9764, 0.9997, 0.9975, 1.0000, 1.0000, 0.6422,\n",
              "         1.0000, 0.9614, 0.9585, 0.7324, 1.0000, 0.9999, 0.7903, 0.9985, 1.0000,\n",
              "         0.9914, 1.0000, 1.0000, 1.0000, 1.0000, 0.7248, 0.9998, 1.0000, 1.0000,\n",
              "         0.9942, 0.9988, 1.0000, 1.0000, 0.9696, 1.0000, 0.9524, 1.0000, 1.0000,\n",
              "         1.0000, 1.0000, 1.0000, 0.9475, 0.9980, 0.9961, 0.8998, 0.9970, 1.0000,\n",
              "         0.9992, 1.0000, 0.9999, 0.9999, 1.0000, 0.9998, 0.9826, 1.0000, 1.0000,\n",
              "         0.8129, 1.0000, 0.9999, 1.0000, 1.0000, 1.0000, 0.9969, 1.0000, 1.0000,\n",
              "         0.9999, 1.0000, 0.9989, 0.9951, 0.9998, 0.7381, 0.5732, 0.9756, 0.9999,\n",
              "         0.9971, 0.9999, 0.7523, 1.0000, 1.0000, 1.0000, 0.9984, 0.9999, 0.9923,\n",
              "         0.9971, 0.8615, 0.7981, 1.0000, 0.9886, 0.7104, 1.0000, 1.0000, 1.0000,\n",
              "         0.9947, 1.0000, 0.9999, 0.9996, 1.0000, 1.0000, 1.0000, 1.0000, 1.0000,\n",
              "         1.0000, 0.5345, 1.0000, 0.9997, 0.9999, 1.0000, 1.0000, 1.0000, 1.0000,\n",
              "         0.9991, 1.0000, 1.0000, 1.0000, 0.9999, 0.9998, 1.0000, 1.0000, 1.0000,\n",
              "         0.9887, 0.9976, 0.9999, 1.0000, 1.0000, 0.9987, 1.0000, 0.8906, 0.9999,\n",
              "         0.7718, 1.0000, 1.0000, 1.0000, 0.9998, 1.0000, 0.9995, 0.9999, 0.9201,\n",
              "         1.0000, 0.9997, 0.5571, 0.4660, 1.0000, 0.8023, 1.0000, 0.9574, 1.0000,\n",
              "         0.9774, 1.0000, 0.9884, 0.9985, 0.9990, 0.9757, 0.9959, 1.0000, 1.0000,\n",
              "         0.9995, 1.0000, 0.5241, 0.9982, 0.9907, 1.0000, 0.9993, 1.0000, 1.0000,\n",
              "         1.0000, 1.0000, 1.0000, 1.0000, 1.0000, 0.9975, 1.0000, 1.0000, 0.9957,\n",
              "         1.0000, 1.0000, 0.9999, 1.0000, 0.5505, 0.9992, 0.9226, 0.5302, 1.0000,\n",
              "         1.0000, 0.9507, 1.0000, 1.0000, 1.0000, 1.0000, 0.8849, 0.9528, 1.0000,\n",
              "         1.0000, 0.9996, 0.9844, 0.9550, 0.9924, 1.0000, 1.0000, 0.9999, 1.0000,\n",
              "         1.0000, 1.0000, 1.0000, 0.8186, 0.9982, 0.9539, 1.0000, 1.0000, 0.9999,\n",
              "         1.0000, 0.6236, 1.0000, 0.9220, 0.9882, 1.0000, 0.9990, 1.0000, 1.0000,\n",
              "         0.9998, 0.9159, 0.9976, 0.7450, 0.9999, 0.9983, 1.0000, 1.0000, 0.9337,\n",
              "         1.0000, 1.0000, 0.5106, 1.0000, 1.0000, 1.0000, 0.9922, 0.9998, 1.0000,\n",
              "         0.9988, 0.9817, 0.9999, 1.0000, 1.0000, 0.9996, 0.9975, 1.0000, 0.9395,\n",
              "         1.0000, 1.0000, 1.0000, 1.0000, 1.0000, 1.0000, 1.0000, 0.9967, 1.0000,\n",
              "         0.9995, 0.9999, 0.9997, 0.7756, 0.9947, 1.0000, 1.0000, 0.9897, 0.9990,\n",
              "         0.9133, 0.9956, 1.0000, 0.5195, 0.9397, 0.8595, 1.0000, 0.9931, 0.9891,\n",
              "         1.0000, 1.0000, 0.9410, 0.2592, 0.9823, 1.0000, 1.0000, 0.9767, 1.0000,\n",
              "         1.0000, 1.0000, 1.0000, 1.0000, 0.6471, 1.0000, 0.6234, 1.0000, 1.0000,\n",
              "         0.9881, 0.9999, 1.0000, 0.9920, 0.5769, 0.9876, 1.0000, 0.9999, 0.9742,\n",
              "         1.0000, 1.0000, 0.9994, 1.0000, 0.9982, 0.5666, 0.5367, 1.0000],\n",
              "        device='cuda:0'), torch.Size([350]))"
            ]
          },
          "metadata": {},
          "execution_count": 17
        }
      ]
    },
    {
      "cell_type": "code",
      "source": [
        "torch.mean(test_max_softmax)"
      ],
      "metadata": {
        "id": "ekVFD4vdvTPz",
        "colab": {
          "base_uri": "https://localhost:8080/"
        },
        "outputId": "916470ee-d93c-419c-c574-3a6e5528c637"
      },
      "execution_count": null,
      "outputs": [
        {
          "output_type": "execute_result",
          "data": {
            "text/plain": [
              "tensor(0.9540, device='cuda:0')"
            ]
          },
          "metadata": {},
          "execution_count": 18
        }
      ]
    },
    {
      "cell_type": "code",
      "source": [
        "new_dataloader = torch.utils.data.DataLoader(dataset_2, batch_size=25, shuffle=False)"
      ],
      "metadata": {
        "id": "PLDAxegxyboM"
      },
      "execution_count": null,
      "outputs": []
    },
    {
      "cell_type": "code",
      "source": [
        "new_max_softmax = eval_step(model, new_dataloader)\n",
        "new_max_softmax, new_max_softmax.shape"
      ],
      "metadata": {
        "id": "pZBHmEdozJ1E",
        "colab": {
          "base_uri": "https://localhost:8080/"
        },
        "outputId": "5a0efeec-cd7b-4d61-d1aa-076d4d294d3d"
      },
      "execution_count": null,
      "outputs": [
        {
          "output_type": "execute_result",
          "data": {
            "text/plain": [
              "(tensor([0.7762, 0.8518, 0.9991, 0.9999, 0.9986, 0.9998, 0.9495, 0.9981, 0.9521,\n",
              "         0.7075, 0.9919, 0.9901, 0.9992, 0.7751, 0.8948, 1.0000, 0.9996, 0.8435,\n",
              "         0.9996, 0.9882, 0.8986, 0.8560, 0.9997, 0.5834, 0.9825, 0.6505, 0.5070,\n",
              "         0.3840, 0.7990, 0.9997, 0.9999, 0.9521, 0.9980, 0.9997, 0.9832, 0.7268,\n",
              "         0.9804, 1.0000, 0.9626, 0.9170, 0.8690, 0.9984, 0.9738, 0.9989, 0.9999,\n",
              "         0.9800, 0.9993, 0.9964, 0.9766, 0.5297, 0.8037, 0.6829, 0.8040, 0.8981,\n",
              "         0.3477, 0.9712, 0.9922, 0.9973, 0.9990, 0.5677, 0.7994, 0.5742, 0.9939,\n",
              "         0.9979, 0.9632, 0.9374, 0.9882, 0.9357, 0.9341, 1.0000, 0.5682, 0.9358,\n",
              "         0.9145, 0.9975, 1.0000, 0.7070, 0.9990, 0.9995, 0.9971, 0.9323, 0.9998,\n",
              "         0.9719, 0.6310, 0.6777, 1.0000, 0.8832, 0.9957, 0.9524, 0.9974, 0.5608,\n",
              "         0.9998, 0.7370, 0.4847, 0.9640, 0.9515, 0.6355, 0.9995, 0.9966, 0.9952,\n",
              "         0.7047, 0.5028, 0.8883, 0.3638, 0.9341, 0.5193, 0.9818, 0.5367, 0.9862,\n",
              "         0.8619, 0.9725, 0.7530, 0.8752, 0.4353, 0.8028, 0.8344, 0.5089, 0.9874,\n",
              "         0.5431, 0.8627, 0.8528, 0.5225, 0.4419, 0.6310, 0.3381, 0.9945, 0.9999,\n",
              "         0.3805, 0.8708, 0.9982, 0.9412, 0.8205, 0.3397, 0.4621, 0.9879, 0.5888,\n",
              "         0.8415, 0.9959, 0.9978, 0.4779, 0.5133, 0.5781, 0.9580, 0.9388, 0.8416,\n",
              "         0.9549, 0.8986, 0.5309, 0.9774, 0.9766, 0.9735, 0.7986, 0.7169, 0.7032,\n",
              "         0.7639, 0.8468, 0.6168, 0.9999, 0.9998, 0.6321, 0.4524, 0.5826, 0.9953,\n",
              "         0.4229, 0.9944, 0.9866, 0.9809, 0.5273, 0.3595, 0.8793, 0.9227, 0.7746,\n",
              "         0.9987, 1.0000, 1.0000, 0.9999, 0.9999, 0.9896, 0.8560, 0.9971, 0.6034,\n",
              "         0.9996, 0.9997, 0.8705, 0.9997, 1.0000, 1.0000, 0.9997, 0.6971, 0.9998,\n",
              "         0.8981, 0.9979, 0.9901, 0.8875, 0.3816, 0.9095, 0.9857, 0.8800, 0.4888,\n",
              "         0.4842, 0.9983, 0.9964, 0.5196, 0.9411, 0.9318, 0.9430, 0.9330, 0.5895,\n",
              "         0.6535, 0.9787, 0.8738, 0.9994, 0.9660, 0.7430, 0.9957, 0.7445, 0.9967,\n",
              "         0.6561, 0.9480, 0.4269, 0.9236, 0.9905, 0.9447, 0.9163, 0.9944, 0.9715,\n",
              "         0.9995, 0.7603, 0.4787, 0.9763, 0.7835, 0.8626, 0.5190, 0.9014, 0.3116,\n",
              "         0.6218, 0.8630, 0.7919, 0.7154, 0.9838, 0.7709, 0.5400, 0.8173, 0.9976,\n",
              "         0.6321, 0.9915, 0.4780, 0.8794, 0.9940, 0.9781, 0.8167, 0.9475, 0.9910,\n",
              "         0.9999, 0.9998, 0.7089, 0.9978, 0.6230, 0.4015, 0.9000, 0.3565, 0.8485,\n",
              "         0.2805, 0.9984, 0.4687, 0.9063, 0.8947, 0.9955, 0.5327, 0.9933, 0.9601,\n",
              "         0.9978, 0.9113, 0.7611, 0.7308, 0.9527, 0.8614, 0.5142, 0.9992, 0.3173,\n",
              "         0.9932, 1.0000, 1.0000, 1.0000, 0.5107, 0.9181, 0.8077, 0.9997, 0.9879,\n",
              "         0.9261, 0.9999, 1.0000, 0.6317, 0.4675, 0.5161, 0.9982, 0.8298, 0.8204,\n",
              "         0.6843, 0.9761, 0.9481, 0.9547, 0.9853, 0.6748, 0.4374, 0.9501, 0.4626,\n",
              "         0.6139, 0.9814, 0.5976, 0.5179, 0.9885, 0.7206, 0.9072, 0.9968, 0.9606,\n",
              "         0.8969, 0.9739, 0.9618, 0.9154, 0.8509, 0.9746, 0.9999, 0.8087, 0.9906,\n",
              "         0.8916, 0.9758, 0.9960, 0.9816, 0.9920, 0.9998, 0.8040, 0.9309, 0.8061,\n",
              "         0.9999, 1.0000, 1.0000, 0.9996, 0.7777, 0.8895, 0.9998, 0.9997, 0.9973,\n",
              "         0.9968, 0.7914, 0.6768, 0.9997, 0.9981, 0.9995, 0.9996, 0.9996, 0.8954,\n",
              "         0.9845, 0.9906, 0.9816, 0.9990, 0.9525, 0.4861, 0.9738, 0.5549, 0.9499,\n",
              "         0.9595, 0.9870, 0.7910, 0.9995, 0.9987, 0.8090, 0.4674, 1.0000, 0.9999,\n",
              "         1.0000, 0.9987, 0.8813, 0.7421, 0.9505, 0.9983, 0.5440, 0.9342, 0.6545,\n",
              "         0.8858, 0.9999, 0.9726, 0.9993, 0.9994, 0.9803, 0.9991, 0.9998, 0.9999,\n",
              "         0.9933, 0.9992, 1.0000, 0.9918, 0.9992, 0.9182, 0.9819, 0.6494, 0.5319,\n",
              "         0.9810, 0.7974, 0.9335, 0.4023, 0.9905, 0.6382, 0.4197, 0.2991, 0.7260,\n",
              "         0.8662, 0.6201, 0.9680, 0.7434, 0.9878, 0.9176, 0.9957, 0.5576, 0.7848,\n",
              "         0.9449, 0.9730, 0.7965, 0.4184, 0.9714, 0.9606, 0.7772, 0.5042, 0.5444,\n",
              "         0.4650, 0.8557, 0.9528, 0.7551, 0.9952, 0.9886, 0.4161, 0.7813, 0.8365,\n",
              "         0.5291, 0.8027, 0.7114, 0.9660, 0.7794, 0.9080, 0.6414, 0.3781, 0.8760,\n",
              "         0.5479, 0.9168, 0.9876, 1.0000, 0.9970, 0.9997, 0.7804, 0.9969, 0.9963,\n",
              "         0.5954, 0.9785, 0.9960, 0.9983, 0.9987, 0.9928, 0.8912, 0.9192, 0.9982,\n",
              "         0.9728, 0.9956, 0.3846, 0.4582, 0.8499, 0.9911, 0.7581, 0.9998, 0.9947,\n",
              "         0.9992, 0.4407, 0.8797, 0.4738, 0.6981, 0.8641, 0.8991, 0.9953, 0.7660,\n",
              "         0.9875, 0.9957, 0.5820, 0.7837, 0.8819, 0.5986, 0.9893, 1.0000, 0.8762,\n",
              "         0.9532, 0.9555, 0.9811, 0.9892, 0.5951, 0.9956, 0.5962, 0.9946, 0.9970,\n",
              "         0.9851, 0.9361, 1.0000, 0.9907, 0.9955, 0.9303, 0.9940, 0.9374, 0.9962,\n",
              "         1.0000, 0.7431, 0.3550, 0.8900, 0.8623, 0.9999, 1.0000, 0.9193, 0.9983,\n",
              "         0.9596, 0.9846, 0.8993, 0.9993, 0.7892, 0.8778, 0.9055, 0.9994, 0.8332,\n",
              "         0.6259, 0.7784, 0.9992, 0.9986, 0.9395, 0.6785, 1.0000, 0.9952, 0.8691,\n",
              "         1.0000, 0.9996, 1.0000, 0.9911, 0.9884, 0.9999, 0.6845, 0.4339, 0.9966,\n",
              "         0.9949, 0.9878, 0.9939, 0.9778, 0.7275, 0.9975, 0.9746, 0.9997, 0.4335,\n",
              "         0.5807, 0.9647, 0.9565, 0.7905, 0.2812, 0.7158, 0.8598, 1.0000, 0.9354,\n",
              "         0.9972, 0.9997, 0.9953, 0.5443, 0.8779, 0.8764, 0.2703, 0.7071, 0.6093,\n",
              "         0.9485, 0.9951, 0.5648, 0.4707, 0.7939, 0.6465, 0.9229, 0.9406, 0.8239,\n",
              "         0.8937, 0.9863, 0.9945, 0.9873, 0.6201, 0.7733, 0.7812, 0.4768, 0.5196,\n",
              "         0.9701, 1.0000, 1.0000, 0.9829, 0.7511, 0.9954, 0.9799, 0.9698, 0.9927,\n",
              "         0.6127, 0.8408, 0.9918, 0.7304, 0.4956, 0.5841, 0.8949, 0.9991, 0.7386,\n",
              "         0.9425, 0.6761, 0.3860, 0.7454, 0.7119, 0.9447, 0.7952, 1.0000, 0.6522,\n",
              "         0.5460, 0.4851, 0.8876, 0.9894, 0.9958, 0.8860, 0.6726, 0.6774, 0.3309,\n",
              "         0.4097, 0.9930, 0.9965, 0.7793, 0.4986, 0.7493, 0.7972, 0.5738, 0.7134,\n",
              "         0.8268, 0.9945, 0.3858, 0.9558, 0.9977, 0.9374, 0.9527, 0.7063, 0.9998,\n",
              "         0.9840, 0.5280, 0.9882, 0.8909, 0.9985, 0.7781, 0.9999, 0.8472, 0.7000,\n",
              "         0.6465, 0.9994, 0.9938, 0.5064, 0.9992, 0.9982, 0.5193, 0.9377, 0.4805,\n",
              "         0.6823, 0.6122, 0.8685, 0.8529, 0.9262, 0.9554, 0.9612, 0.9995, 0.8653,\n",
              "         0.9990, 0.9807, 0.2673, 0.9515, 0.6778, 0.9110, 0.9273, 0.8276, 0.9462,\n",
              "         0.7135, 0.8050, 0.8246, 0.7811, 0.9159, 0.4764, 1.0000, 0.4059, 0.9995,\n",
              "         0.9796, 0.9517, 0.5604, 0.9317, 0.9502, 0.6691, 0.8305, 0.6165, 0.8967,\n",
              "         0.6799, 0.8914, 0.6168, 0.4538, 0.9900, 0.4446, 0.8074],\n",
              "        device='cuda:0'), torch.Size([700]))"
            ]
          },
          "metadata": {},
          "execution_count": 20
        }
      ]
    },
    {
      "cell_type": "code",
      "source": [
        "torch.mean(new_max_softmax)"
      ],
      "metadata": {
        "id": "Wvypm0S1zQK0",
        "colab": {
          "base_uri": "https://localhost:8080/"
        },
        "outputId": "5f6d96c8-0f25-4de8-89e1-dee01ffb578d"
      },
      "execution_count": null,
      "outputs": [
        {
          "output_type": "execute_result",
          "data": {
            "text/plain": [
              "tensor(0.8376, device='cuda:0')"
            ]
          },
          "metadata": {},
          "execution_count": 21
        }
      ]
    }
  ],
  "metadata": {
    "accelerator": "GPU",
    "colab": {
      "provenance": []
    },
    "gpuClass": "standard",
    "kernelspec": {
      "display_name": "base",
      "language": "python",
      "name": "python3"
    },
    "language_info": {
      "codemirror_mode": {
        "name": "ipython",
        "version": 3
      },
      "file_extension": ".py",
      "mimetype": "text/x-python",
      "name": "python",
      "nbconvert_exporter": "python",
      "pygments_lexer": "ipython3",
      "version": "3.10.8"
    },
    "vscode": {
      "interpreter": {
        "hash": "91ff3fa3df200fd57177281df4749b911f5f1bea518afeedd5e9abc3371936e3"
      }
    }
  },
  "nbformat": 4,
  "nbformat_minor": 0
}