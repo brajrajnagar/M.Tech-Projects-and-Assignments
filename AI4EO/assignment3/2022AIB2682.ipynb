{
 "cells": [
  {
   "cell_type": "code",
   "execution_count": 1,
   "metadata": {},
   "outputs": [
    {
     "name": "stderr",
     "output_type": "stream",
     "text": [
      "c:\\Users\\BRAJ RAJ NAGAR\\AppData\\Local\\Programs\\Python\\Python310\\lib\\site-packages\\tqdm\\auto.py:22: TqdmWarning: IProgress not found. Please update jupyter and ipywidgets. See https://ipywidgets.readthedocs.io/en/stable/user_install.html\n",
      "  from .autonotebook import tqdm as notebook_tqdm\n"
     ]
    }
   ],
   "source": [
    "\"\"\"\n",
    "AIL861: Assignment 3\n",
    "\n",
    "\"\"\"\n",
    "\n",
    "import os\n",
    "import numpy as np\n",
    "import torch\n",
    "import torchvision.transforms as transforms\n",
    "from PIL import Image, ImageFilter"
   ]
  },
  {
   "cell_type": "code",
   "execution_count": 2,
   "metadata": {},
   "outputs": [],
   "source": [
    "transform = transforms.Compose([transforms.Resize(224), transforms.ToTensor()]) \n",
    "\n",
    "current_dir = os.getcwd()\n",
    "images = []\n",
    "\n",
    "# Iterate over the files in the folder\n",
    "for filename in os.listdir(current_dir):\n",
    "    # Check if the file is a PNG image\n",
    "    if filename.endswith(\".png\"):\n",
    "        # Load the image and apply the transformation\n",
    "        img = Image.open(os.path.join(current_dir, filename)).convert('RGB')\n",
    "        img = img.filter(ImageFilter.MedianFilter(size=3))\n",
    "        img_tensor = transform(img)\n",
    "        # Append the tensor to the list of images\n",
    "        images.append(img_tensor)\n",
    "images_tensor = torch.stack(images)"
   ]
  },
  {
   "cell_type": "code",
   "execution_count": 3,
   "metadata": {},
   "outputs": [
    {
     "name": "stderr",
     "output_type": "stream",
     "text": [
      "c:\\Users\\BRAJ RAJ NAGAR\\AppData\\Local\\Programs\\Python\\Python310\\lib\\site-packages\\torchvision\\models\\_utils.py:208: UserWarning: The parameter 'pretrained' is deprecated since 0.13 and may be removed in the future, please use 'weights' instead.\n",
      "  warnings.warn(\n",
      "c:\\Users\\BRAJ RAJ NAGAR\\AppData\\Local\\Programs\\Python\\Python310\\lib\\site-packages\\torchvision\\models\\_utils.py:223: UserWarning: Arguments other than a weight enum or `None` for 'weights' are deprecated since 0.13 and may be removed in the future. The current behavior is equivalent to passing `weights=VGG16_Weights.IMAGENET1K_V1`. You can also use `weights=VGG16_Weights.DEFAULT` to get the most up-to-date weights.\n",
      "  warnings.warn(msg)\n"
     ]
    }
   ],
   "source": [
    "import torchvision.models as models\n",
    "\n",
    "vgg16 = models.vgg16(pretrained=True)"
   ]
  },
  {
   "cell_type": "code",
   "execution_count": 4,
   "metadata": {},
   "outputs": [],
   "source": [
    "features = list(vgg16.features)\n",
    "model = torch.nn.Sequential(*features)"
   ]
  },
  {
   "cell_type": "code",
   "execution_count": 5,
   "metadata": {},
   "outputs": [],
   "source": [
    "## Define your function to find the similarity here\n",
    "def findSimilarity(img1, img2):  ##Pass your arguments\n",
    "    fm1 = torch.flatten(model(img1)).unsqueeze(0)\n",
    "    cos_sim = []\n",
    "    fm2 = model(img2)\n",
    "    # right shift\n",
    "    cols = fm2.size()[-1]\n",
    "    rows = fm2.size()[-2]\n",
    "    for i in range(cols):\n",
    "        shifted_tensor = torch.roll(fm2, shifts=i, dims=-1)\n",
    "        for j in range(rows):\n",
    "            shifted_tensor = torch.roll(shifted_tensor, shifts=j, dims=-2)\n",
    "            cos_sim.append(torch.nn.functional.cosine_similarity(fm1, torch.flatten(shifted_tensor).unsqueeze(0)).item())\n",
    "\n",
    "    return max(cos_sim)"
   ]
  },
  {
   "cell_type": "code",
   "execution_count": 6,
   "metadata": {},
   "outputs": [],
   "source": [
    "sim_scores = []\n",
    "for im1 in images_tensor:\n",
    "    temp = []\n",
    "    for im2 in images_tensor:\n",
    "        score = findSimilarity(im1, im2)\n",
    "        temp.append(score*100)\n",
    "    sim_scores.append(temp)"
   ]
  },
  {
   "cell_type": "code",
   "execution_count": 7,
   "metadata": {},
   "outputs": [
    {
     "name": "stdout",
     "output_type": "stream",
     "text": [
      "╒════╤══════════╤══════════╤══════════╤══════════╤══════════╤══════════╕\n",
      "│    │        1 │        2 │        3 │        4 │        5 │        6 │\n",
      "╞════╪══════════╪══════════╪══════════╪══════════╪══════════╪══════════╡\n",
      "│  1 │ 100      │  24.4571 │  24.5867 │  95.8261 │  24.2701 │  25.0057 │\n",
      "├────┼──────────┼──────────┼──────────┼──────────┼──────────┼──────────┤\n",
      "│  2 │  24.4571 │ 100      │  44.6523 │  23.664  │  96.4061 │  42.8153 │\n",
      "├────┼──────────┼──────────┼──────────┼──────────┼──────────┼──────────┤\n",
      "│  3 │  24.5867 │  44.6523 │ 100      │  24.3646 │  42.9165 │  95.6366 │\n",
      "├────┼──────────┼──────────┼──────────┼──────────┼──────────┼──────────┤\n",
      "│  4 │  95.8261 │  23.664  │  24.3646 │ 100      │  24.1915 │  25.5874 │\n",
      "├────┼──────────┼──────────┼──────────┼──────────┼──────────┼──────────┤\n",
      "│  5 │  24.2701 │  96.4061 │  42.9165 │  24.1915 │ 100      │  43.1631 │\n",
      "├────┼──────────┼──────────┼──────────┼──────────┼──────────┼──────────┤\n",
      "│  6 │  25.0057 │  42.8153 │  95.6366 │  25.5874 │  43.1631 │ 100      │\n",
      "╘════╧══════════╧══════════╧══════════╧══════════╧══════════╧══════════╛\n"
     ]
    }
   ],
   "source": [
    "from tabulate import tabulate\n",
    "\n",
    "headers = ['1','2','3','4','5','6']\n",
    "table1 = tabulate(sim_scores, headers=headers, showindex=headers, tablefmt=\"fancy_grid\")\n",
    "print(table1)"
   ]
  }
 ],
 "metadata": {
  "kernelspec": {
   "display_name": "Python 3",
   "language": "python",
   "name": "python3"
  },
  "language_info": {
   "codemirror_mode": {
    "name": "ipython",
    "version": 3
   },
   "file_extension": ".py",
   "mimetype": "text/x-python",
   "name": "python",
   "nbconvert_exporter": "python",
   "pygments_lexer": "ipython3",
   "version": "3.10.7"
  },
  "orig_nbformat": 4
 },
 "nbformat": 4,
 "nbformat_minor": 2
}
